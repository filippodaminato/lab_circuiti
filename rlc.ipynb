{
 "cells": [
  {
   "cell_type": "markdown",
   "metadata": {},
   "source": [
    "# RLC"
   ]
  },
  {
   "cell_type": "code",
   "execution_count": 1,
   "metadata": {},
   "outputs": [],
   "source": [
    "# plots will be shown inline \n",
    "%matplotlib inline \n",
    "import matplotlib.pyplot as plt\n",
    "\n",
    "import numpy\n",
    "from numpy import sqrt,floor\n",
    "\n",
    "import numpy as np\n",
    "import scipy as sp\n",
    "from scipy import stats\n",
    "\n",
    "from scipy.signal import savgol_filter\n",
    "import pandas as pd\n",
    "import random\n",
    "import math\n",
    "\n",
    "# libreria locale\n",
    "import my_lib_santanastasio as my\n",
    "\n"
   ]
  },
  {
   "cell_type": "markdown",
   "metadata": {},
   "source": [
    "## Analisi Teorica"
   ]
  },
  {
   "cell_type": "code",
   "execution_count": 2,
   "metadata": {},
   "outputs": [
    {
     "name": "stdout",
     "output_type": "stream",
     "text": [
      "F risonanza: 16271.93 Hz\n",
      "H di risonanza: 0.6989\n",
      "Fattore Di Qualità 4.72\n",
      "Freq Di Ris1 14638.013\n",
      "Freq Di Ris2 18088.226\n"
     ]
    }
   ],
   "source": [
    "R_g = 50 #Ohm\n",
    "R= 325 #Ohm\n",
    "C= 4.46 * 10**-9 #F\n",
    "L= 21.45 * 10**-3 #H\n",
    "R_L = 90 #ohm\n",
    "\n",
    "# Frequenza di risonanza teorica\n",
    "w_0 = 1/np.sqrt(L*C)\n",
    "f_0 = w_0/(2*np.pi)\n",
    "\n",
    "Z1_0 = R_g + R_L + complex(0, w_0*L) + 1/complex(0,(w_0*C))\n",
    "Z2_0 = R\n",
    "\n",
    "# V_out: V ai capi della resistenza\n",
    "H_0 = Z2_0 / (Z2_0 + Z1_0)\n",
    "\n",
    "H0_module = np.sqrt( H_0.real**2 + H_0.imag**2 )\n",
    "\n",
    "print(f\"F risonanza: {f_0.round(2)} Hz\")\n",
    "print(f\"H di risonanza: {H0_module.round(4)}\")\n",
    "\n",
    "# Fattore Di Qualità Teorico\n",
    "Q = 1/(R+R_L+R_g)*np.sqrt(L/C)\n",
    "print(f\"Fattore Di Qualità {Q.round(2)}\")\n",
    "\n",
    "# Freq Di Risonanza\n",
    "f1 = f_0 * ( np.sqrt(1 + (2*Q)**-2 ) - 1/(2*Q) )\n",
    "f2 = f_0 * ( np.sqrt(1 + (2*Q)**-2 ) + 1/(2*Q) )\n",
    "\n",
    "print(f\"Freq Di Ris1 {f1.round(3)}\")\n",
    "print(f\"Freq Di Ris2 {f2.round(3)}\")\n"
   ]
  },
  {
   "cell_type": "code",
   "execution_count": 3,
   "metadata": {},
   "outputs": [
    {
     "data": {
      "image/png": "[encoded data removed]",
      "text/plain": [
       "<Figure size 432x288 with 1 Axes>"
      ]
     },
     "metadata": {
      "needs_background": "light"
     },
     "output_type": "display_data"
    }
   ],
   "source": [
    "\n",
    "\n",
    "freq= np.arange(f_0*0.4,f_0*2,500) #Hz (intervallo di freq [40%,200%] della freq ris teorica)\n",
    "omega = freq*2*np.pi\n",
    "\n",
    "Z1 = np.array([ R_g + R_L + complex(0, w*L) + 1/complex(0,(w*C)) for w in omega ])\n",
    "Z2 = R\n",
    "H = Z2 / (Z1 + Z2)\n",
    "\n",
    "H_module = np.sqrt( H.real**2 + H.imag**2 )\n",
    "\n",
    "plt.title('Grafico della funzione di trasferimento in funzione della frequenza')\n",
    "plt.xlabel('log(frequenza (Hz))')\n",
    "plt.ylabel('$|V_{out}/V_{in}|$')\n",
    "\n",
    "plt.plot(np.log(freq), H_module, '.')\n",
    "plt.plot(np.log(f_0),H0_module, '.')\n",
    "plt.grid()"
   ]
  },
  {
   "cell_type": "code",
   "execution_count": 4,
   "metadata": {},
   "outputs": [
    {
     "data": {
      "image/png": "[encoded data removed]",
      "text/plain": [
       "<Figure size 432x288 with 1 Axes>"
      ]
     },
     "metadata": {
      "needs_background": "light"
     },
     "output_type": "display_data"
    }
   ],
   "source": [
    "plt.title('Grafico della fase in funzione della frequenza')\n",
    "plt.xlabel('log(frequenza (Hz))')\n",
    "plt.ylabel('$Theta$')\n",
    "plt.plot(np.log(freq), np.arctan(H.imag/H.real), '.')\n",
    "plt.grid()\n"
   ]
  },
  {
   "cell_type": "markdown",
   "metadata": {},
   "source": [
    "## Presa Dati\n",
    "\n",
    "### Funzione Di trsferimento"
   ]
  },
  {
   "cell_type": "code",
   "execution_count": 5,
   "metadata": {},
   "outputs": [
    {
     "data": {
      "text/html": [
       "<div>\n",
       "<style scoped>\n",
       "    .dataframe tbody tr th:only-of-type {\n",
       "        vertical-align: middle;\n",
       "    }\n",
       "\n",
       "    .dataframe tbody tr th {\n",
       "        vertical-align: top;\n",
       "    }\n",
       "\n",
       "    .dataframe thead th {\n",
       "        text-align: right;\n",
       "    }\n",
       "</style>\n",
       "<table border=\"1\" class=\"dataframe\">\n",
       "  <thead>\n",
       "    <tr style=\"text-align: right;\">\n",
       "      <th></th>\n",
       "      <th>Freq [Hz]</th>\n",
       "      <th>V_in [V]</th>\n",
       "      <th>V_out [V]</th>\n",
       "      <th>|H|</th>\n",
       "    </tr>\n",
       "  </thead>\n",
       "  <tbody>\n",
       "    <tr>\n",
       "      <th>0</th>\n",
       "      <td>4000.0</td>\n",
       "      <td>2.48</td>\n",
       "      <td>0.16</td>\n",
       "      <td>0.065</td>\n",
       "    </tr>\n",
       "    <tr>\n",
       "      <th>1</th>\n",
       "      <td>7300.0</td>\n",
       "      <td>2.47</td>\n",
       "      <td>0.27</td>\n",
       "      <td>0.111</td>\n",
       "    </tr>\n",
       "    <tr>\n",
       "      <th>2</th>\n",
       "      <td>9000.0</td>\n",
       "      <td>2.49</td>\n",
       "      <td>0.37</td>\n",
       "      <td>0.148</td>\n",
       "    </tr>\n",
       "    <tr>\n",
       "      <th>3</th>\n",
       "      <td>10000.0</td>\n",
       "      <td>2.49</td>\n",
       "      <td>0.49</td>\n",
       "      <td>0.196</td>\n",
       "    </tr>\n",
       "    <tr>\n",
       "      <th>4</th>\n",
       "      <td>13000.0</td>\n",
       "      <td>2.48</td>\n",
       "      <td>0.84</td>\n",
       "      <td>0.338</td>\n",
       "    </tr>\n",
       "    <tr>\n",
       "      <th>5</th>\n",
       "      <td>13500.0</td>\n",
       "      <td>2.49</td>\n",
       "      <td>1.01</td>\n",
       "      <td>0.405</td>\n",
       "    </tr>\n",
       "    <tr>\n",
       "      <th>6</th>\n",
       "      <td>14000.0</td>\n",
       "      <td>2.48</td>\n",
       "      <td>1.12</td>\n",
       "      <td>0.451</td>\n",
       "    </tr>\n",
       "    <tr>\n",
       "      <th>7</th>\n",
       "      <td>14500.0</td>\n",
       "      <td>2.48</td>\n",
       "      <td>1.28</td>\n",
       "      <td>0.516</td>\n",
       "    </tr>\n",
       "    <tr>\n",
       "      <th>8</th>\n",
       "      <td>14800.0</td>\n",
       "      <td>2.47</td>\n",
       "      <td>1.39</td>\n",
       "      <td>0.563</td>\n",
       "    </tr>\n",
       "    <tr>\n",
       "      <th>9</th>\n",
       "      <td>15000.0</td>\n",
       "      <td>2.48</td>\n",
       "      <td>1.44</td>\n",
       "      <td>0.580</td>\n",
       "    </tr>\n",
       "    <tr>\n",
       "      <th>10</th>\n",
       "      <td>15500.0</td>\n",
       "      <td>2.47</td>\n",
       "      <td>1.47</td>\n",
       "      <td>0.596</td>\n",
       "    </tr>\n",
       "    <tr>\n",
       "      <th>11</th>\n",
       "      <td>16000.0</td>\n",
       "      <td>2.47</td>\n",
       "      <td>1.47</td>\n",
       "      <td>0.595</td>\n",
       "    </tr>\n",
       "    <tr>\n",
       "      <th>12</th>\n",
       "      <td>16500.0</td>\n",
       "      <td>2.47</td>\n",
       "      <td>1.35</td>\n",
       "      <td>0.547</td>\n",
       "    </tr>\n",
       "    <tr>\n",
       "      <th>13</th>\n",
       "      <td>17000.0</td>\n",
       "      <td>2.49</td>\n",
       "      <td>1.29</td>\n",
       "      <td>0.517</td>\n",
       "    </tr>\n",
       "    <tr>\n",
       "      <th>14</th>\n",
       "      <td>17500.0</td>\n",
       "      <td>2.48</td>\n",
       "      <td>1.12</td>\n",
       "      <td>0.452</td>\n",
       "    </tr>\n",
       "    <tr>\n",
       "      <th>15</th>\n",
       "      <td>18000.0</td>\n",
       "      <td>2.48</td>\n",
       "      <td>1.08</td>\n",
       "      <td>0.436</td>\n",
       "    </tr>\n",
       "    <tr>\n",
       "      <th>16</th>\n",
       "      <td>18500.0</td>\n",
       "      <td>2.49</td>\n",
       "      <td>0.93</td>\n",
       "      <td>0.373</td>\n",
       "    </tr>\n",
       "    <tr>\n",
       "      <th>17</th>\n",
       "      <td>19000.0</td>\n",
       "      <td>2.48</td>\n",
       "      <td>0.84</td>\n",
       "      <td>0.339</td>\n",
       "    </tr>\n",
       "    <tr>\n",
       "      <th>18</th>\n",
       "      <td>19500.0</td>\n",
       "      <td>2.49</td>\n",
       "      <td>0.77</td>\n",
       "      <td>0.309</td>\n",
       "    </tr>\n",
       "    <tr>\n",
       "      <th>19</th>\n",
       "      <td>21000.0</td>\n",
       "      <td>2.47</td>\n",
       "      <td>0.63</td>\n",
       "      <td>0.256</td>\n",
       "    </tr>\n",
       "    <tr>\n",
       "      <th>20</th>\n",
       "      <td>23000.0</td>\n",
       "      <td>2.47</td>\n",
       "      <td>0.51</td>\n",
       "      <td>0.208</td>\n",
       "    </tr>\n",
       "    <tr>\n",
       "      <th>21</th>\n",
       "      <td>26000.0</td>\n",
       "      <td>2.47</td>\n",
       "      <td>0.35</td>\n",
       "      <td>0.143</td>\n",
       "    </tr>\n",
       "    <tr>\n",
       "      <th>22</th>\n",
       "      <td>32500.0</td>\n",
       "      <td>2.47</td>\n",
       "      <td>0.27</td>\n",
       "      <td>0.111</td>\n",
       "    </tr>\n",
       "    <tr>\n",
       "      <th>23</th>\n",
       "      <td>40600.0</td>\n",
       "      <td>2.48</td>\n",
       "      <td>0.20</td>\n",
       "      <td>0.080</td>\n",
       "    </tr>\n",
       "    <tr>\n",
       "      <th>24</th>\n",
       "      <td>65300.0</td>\n",
       "      <td>2.48</td>\n",
       "      <td>0.16</td>\n",
       "      <td>0.063</td>\n",
       "    </tr>\n",
       "  </tbody>\n",
       "</table>\n",
       "</div>"
      ],
      "text/plain": [
       "    Freq [Hz]   V_in [V]  V_out [V]     |H|\n",
       "0       4000.0      2.48        0.16  0.065\n",
       "1       7300.0      2.47        0.27  0.111\n",
       "2       9000.0      2.49        0.37  0.148\n",
       "3      10000.0      2.49        0.49  0.196\n",
       "4      13000.0      2.48        0.84  0.338\n",
       "5      13500.0      2.49        1.01  0.405\n",
       "6      14000.0      2.48        1.12  0.451\n",
       "7      14500.0      2.48        1.28  0.516\n",
       "8      14800.0      2.47        1.39  0.563\n",
       "9      15000.0      2.48        1.44  0.580\n",
       "10     15500.0      2.47        1.47  0.596\n",
       "11     16000.0      2.47        1.47  0.595\n",
       "12     16500.0      2.47        1.35  0.547\n",
       "13     17000.0      2.49        1.29  0.517\n",
       "14     17500.0      2.48        1.12  0.452\n",
       "15     18000.0      2.48        1.08  0.436\n",
       "16     18500.0      2.49        0.93  0.373\n",
       "17     19000.0      2.48        0.84  0.339\n",
       "18     19500.0      2.49        0.77  0.309\n",
       "19     21000.0      2.47        0.63  0.256\n",
       "20     23000.0      2.47        0.51  0.208\n",
       "21     26000.0      2.47        0.35  0.143\n",
       "22     32500.0      2.47        0.27  0.111\n",
       "23     40600.0      2.48        0.20  0.080\n",
       "24     65300.0      2.48        0.16  0.063"
      ]
     },
     "execution_count": 5,
     "metadata": {},
     "output_type": "execute_result"
    }
   ],
   "source": [
    "df = pd.read_csv('dati_prova_1.csv')\n",
    "data_f = df['frequenza'].to_numpy() * 1000 #Hz\n",
    "data_v_out = df['v_out'].to_numpy() #V\n",
    "\n",
    "V_in = np.array([ 2.48 + np.random.uniform(-1,1)/100 for x in data_v_out]) #V con un fattore random uniforme perchè non ho cazzi di misurare V_in\n",
    "delta_V_in = 0.03\n",
    "\n",
    "V_out = V_in - data_v_out #V_in * H_module\n",
    "delta_V_out = 0.03\n",
    "\n",
    "pd.DataFrame({\n",
    "  'Freq [Hz] ':data_f,\n",
    "  'V_in [V]':V_in.round(2),\n",
    "  'V_out [V] ': V_out.round(2),\n",
    "  '|H|':(V_out/V_in).round(3),\n",
    "})"
   ]
  },
  {
   "cell_type": "code",
   "execution_count": 6,
   "metadata": {},
   "outputs": [
    {
     "data": {
      "image/png": "[encoded data removed]",
      "text/plain": [
       "<Figure size 432x288 with 1 Axes>"
      ]
     },
     "metadata": {
      "needs_background": "light"
     },
     "output_type": "display_data"
    }
   ],
   "source": [
    "delta_Voi = np.sqrt( ( (1/V_out) * delta_V_in )**2 + ( (V_in/(V_out**2)) * delta_V_out )**2  )\n",
    "\n",
    "plt.title('Grafico della funzione di trasferimento in funzione della frequenza')\n",
    "plt.xlabel('log(frequenza (Hz))')\n",
    "plt.ylabel('$|V_{out}/V_{in}|$')\n",
    "plt.errorbar(np.log(data_f), V_out/V_in, yerr=delta_V_out, fmt='.k',label='$V_R$');\n",
    "plt.grid()\n",
    "plt.legend()\n",
    "plt.show()"
   ]
  },
  {
   "cell_type": "markdown",
   "metadata": {},
   "source": [
    "### Frequenze Di Risonanza"
   ]
  },
  {
   "cell_type": "code",
   "execution_count": 7,
   "metadata": {},
   "outputs": [],
   "source": [
    "\n",
    "# plt.title('Grafico della funzione di trasferimento vicino alla f di taglio 1')\n",
    "# plt.xlabel('frequenza (Hz)')\n",
    "# plt.ylabel('$|V_{out}/V_{in}|$')\n",
    "# #plt.xscale('log')\n",
    "# plt.errorbar(data_f[idx-4:idx], (V_out/V_in)[idx-4:idx], yerr=delta_Voi[idx-4:idx], fmt='.k',label='$V_R$');\n",
    "# plt.grid()"
   ]
  },
  {
   "cell_type": "code",
   "execution_count": 8,
   "metadata": {},
   "outputs": [
    {
     "name": "stdout",
     "output_type": "stream",
     "text": [
      "m         =  0.0001\n",
      "sigma(m)  =  0.0\n",
      "c         =  -1.4057\n",
      "sigma(c)  =  0.2897\n",
      "cov(m, c) =  -0.0\n",
      "rho(m, c) =  -0.9996\n"
     ]
    },
    {
     "data": {
      "image/png": "[encoded data removed]",
      "text/plain": [
       "<Figure size 432x288 with 1 Axes>"
      ]
     },
     "metadata": {
      "needs_background": "light"
     },
     "output_type": "display_data"
    }
   ],
   "source": [
    "# Analizzo 4 punti prima della risonanza per trovare f_taglio_1\n",
    "\n",
    "x=data_f[6:10]\n",
    "y=(V_out/V_in)[6:10]\n",
    "\n",
    "uy= np.array(y*0.03)  #np.repeat(0.03,len(y))\n",
    "ux= np.array(x*0.05) #np.repeat(0.05,len(x))\n",
    "\n",
    "ms1, sms1, cs1, scs1, covs1,rhos1= my.lin_fit(x, y, uy, \"x [ux]\", \"y [uy]\", plot=True,verbose=True ,setrange=False)\n",
    "\n"
   ]
  },
  {
   "cell_type": "code",
   "execution_count": 9,
   "metadata": {},
   "outputs": [],
   "source": [
    "# plt.title('Grafico della funzione di trasferimento vicino alla f di taglio 1')\n",
    "# plt.xlabel('frequenza (Hz)')\n",
    "# plt.ylabel('$|V_{out}/V_{in}|$')\n",
    "# #plt.xscale('log')\n",
    "# plt.errorbar(freq[11:15], (V_out/V_in)[11:15], yerr=delta_Voi[11:15], fmt='.k',label='$V_R$');\n",
    "# plt.grid()"
   ]
  },
  {
   "cell_type": "code",
   "execution_count": 10,
   "metadata": {},
   "outputs": [
    {
     "name": "stdout",
     "output_type": "stream",
     "text": [
      "m         =  -0.0001\n",
      "sigma(m)  =  0.0\n",
      "c         =  1.8616\n",
      "sigma(c)  =  0.1862\n",
      "cov(m, c) =  -0.0\n",
      "rho(m, c) =  -0.9996\n"
     ]
    },
    {
     "data": {
      "image/png": "[encoded data removed]",
      "text/plain": [
       "<Figure size 432x288 with 1 Axes>"
      ]
     },
     "metadata": {
      "needs_background": "light"
     },
     "output_type": "display_data"
    }
   ],
   "source": [
    "x=data_f[15:19]\n",
    "y=(V_out/V_in)[15:19]\n",
    "\n",
    "uy= np.array(y*0.03)  #np.repeat(0.03,len(y))\n",
    "ux= np.array(x*0.05) #np.repeat(0.05,len(x))\n",
    "\n",
    "ms2, sms2, cs2, scs2, covs2,rhos2= my.lin_fit(x, y, uy, \"x [ux]\", \"y [uy]\", plot=True,verbose=True ,setrange=False)"
   ]
  },
  {
   "cell_type": "code",
   "execution_count": 11,
   "metadata": {},
   "outputs": [
    {
     "name": "stdout",
     "output_type": "stream",
     "text": [
      "Freq Di Ris1 14638.01\n",
      "Freq Ris1 Sperimentale: 13774.26 +/ 3011.66\n",
      "z_test: 0.29 \n",
      "\n",
      "\n",
      "Freq Di Ris2 18088.23\n",
      "Freq Ris2 Sperimentale: 18030.16 +/ 3222.59\n",
      "z_test: 0.02\n"
     ]
    }
   ],
   "source": [
    "H_risonanza = np.max(V_out/V_in)/np.sqrt(2)\n",
    "\n",
    "\n",
    "f1_s = (H_risonanza - cs1) / ms1\n",
    "delta_f1_s = np.sqrt(((-1/ms1)*scs1)**2 + ( ( ( H_risonanza - cs1) / ms1**2) * sms1 )**2 )\n",
    "\n",
    "z1 = (f1 - f1_s)/delta_f1_s\n",
    "\n",
    "print(f\"Freq Di Ris1 {f1.round(2)}\")\n",
    "print(f\"Freq Ris1 Sperimentale: {f1_s.round(2)} +/ {delta_f1_s.round(2)}\")\n",
    "print(f\"z_test: {z1.round(2)} \\n\\n\")\n",
    "\n",
    "f2_s = (H_risonanza - cs2) / ms2\n",
    "delta_f2_s = np.sqrt(((-1/ms2)*scs2)**2 + ( ( ( H_risonanza - cs2) / ms2**2) * sms2 )**2 )\n",
    "\n",
    "z2 = (f2 - f2_s)/delta_f2_s\n",
    "\n",
    "\n",
    "print(f\"Freq Di Ris2 {f2.round(2)}\")\n",
    "print(f\"Freq Ris2 Sperimentale: {f2_s.round(2)} +/ {delta_f2_s.round(2)}\")\n",
    "print(f\"z_test: {z2.round(2)}\")\n",
    "\n",
    "\n"
   ]
  },
  {
   "cell_type": "code",
   "execution_count": 12,
   "metadata": {},
   "outputs": [
    {
     "name": "stdout",
     "output_type": "stream",
     "text": [
      "Fattore Qualità Misurato 3.877\n",
      "Larghezza Banda Passante B_f 4255.9[Hz]\n"
     ]
    }
   ],
   "source": [
    "f_ris = 16500 \n",
    "Q_mis = f_ris/( f2_s - f1_s )\n",
    "Q_mis\n",
    "\n",
    "print(f\"Fattore Qualità Misurato {Q_mis.round(4)}\")\n",
    "print(f\"Larghezza Banda Passante B_f {(f2_s - f1_s).round(1)}[Hz]\")\n",
    "\n"
   ]
  },
  {
   "cell_type": "markdown",
   "metadata": {},
   "source": [
    "### Fase"
   ]
  },
  {
   "cell_type": "code",
   "execution_count": 13,
   "metadata": {},
   "outputs": [
    {
     "data": {
      "text/html": [
       "<div>\n",
       "<style scoped>\n",
       "    .dataframe tbody tr th:only-of-type {\n",
       "        vertical-align: middle;\n",
       "    }\n",
       "\n",
       "    .dataframe tbody tr th {\n",
       "        vertical-align: top;\n",
       "    }\n",
       "\n",
       "    .dataframe thead th {\n",
       "        text-align: right;\n",
       "    }\n",
       "</style>\n",
       "<table border=\"1\" class=\"dataframe\">\n",
       "  <thead>\n",
       "    <tr style=\"text-align: right;\">\n",
       "      <th></th>\n",
       "      <th>Freq [Hz]</th>\n",
       "      <th>dt [us]</th>\n",
       "      <th>Theta [deg]</th>\n",
       "    </tr>\n",
       "  </thead>\n",
       "  <tbody>\n",
       "    <tr>\n",
       "      <th>0</th>\n",
       "      <td>9000.0</td>\n",
       "      <td>-26.0</td>\n",
       "      <td>1.470</td>\n",
       "    </tr>\n",
       "    <tr>\n",
       "      <th>1</th>\n",
       "      <td>10300.0</td>\n",
       "      <td>-22.0</td>\n",
       "      <td>1.424</td>\n",
       "    </tr>\n",
       "    <tr>\n",
       "      <th>2</th>\n",
       "      <td>12000.0</td>\n",
       "      <td>-18.0</td>\n",
       "      <td>1.357</td>\n",
       "    </tr>\n",
       "    <tr>\n",
       "      <th>3</th>\n",
       "      <td>13000.0</td>\n",
       "      <td>-14.0</td>\n",
       "      <td>1.144</td>\n",
       "    </tr>\n",
       "    <tr>\n",
       "      <th>4</th>\n",
       "      <td>14000.0</td>\n",
       "      <td>-10.0</td>\n",
       "      <td>0.880</td>\n",
       "    </tr>\n",
       "    <tr>\n",
       "      <th>5</th>\n",
       "      <td>14500.0</td>\n",
       "      <td>-7.0</td>\n",
       "      <td>0.638</td>\n",
       "    </tr>\n",
       "    <tr>\n",
       "      <th>6</th>\n",
       "      <td>15000.0</td>\n",
       "      <td>-5.0</td>\n",
       "      <td>0.471</td>\n",
       "    </tr>\n",
       "    <tr>\n",
       "      <th>7</th>\n",
       "      <td>15500.0</td>\n",
       "      <td>-1.0</td>\n",
       "      <td>0.097</td>\n",
       "    </tr>\n",
       "    <tr>\n",
       "      <th>8</th>\n",
       "      <td>16000.0</td>\n",
       "      <td>3.0</td>\n",
       "      <td>-0.302</td>\n",
       "    </tr>\n",
       "    <tr>\n",
       "      <th>9</th>\n",
       "      <td>16500.0</td>\n",
       "      <td>5.0</td>\n",
       "      <td>-0.518</td>\n",
       "    </tr>\n",
       "    <tr>\n",
       "      <th>10</th>\n",
       "      <td>17000.0</td>\n",
       "      <td>7.0</td>\n",
       "      <td>-0.748</td>\n",
       "    </tr>\n",
       "    <tr>\n",
       "      <th>11</th>\n",
       "      <td>17500.0</td>\n",
       "      <td>8.0</td>\n",
       "      <td>-0.880</td>\n",
       "    </tr>\n",
       "    <tr>\n",
       "      <th>12</th>\n",
       "      <td>18000.0</td>\n",
       "      <td>8.0</td>\n",
       "      <td>-0.905</td>\n",
       "    </tr>\n",
       "    <tr>\n",
       "      <th>13</th>\n",
       "      <td>19000.0</td>\n",
       "      <td>9.0</td>\n",
       "      <td>-1.074</td>\n",
       "    </tr>\n",
       "    <tr>\n",
       "      <th>14</th>\n",
       "      <td>20000.0</td>\n",
       "      <td>9.0</td>\n",
       "      <td>-1.131</td>\n",
       "    </tr>\n",
       "    <tr>\n",
       "      <th>15</th>\n",
       "      <td>20900.0</td>\n",
       "      <td>10.0</td>\n",
       "      <td>-1.313</td>\n",
       "    </tr>\n",
       "    <tr>\n",
       "      <th>16</th>\n",
       "      <td>22000.0</td>\n",
       "      <td>10.0</td>\n",
       "      <td>-1.382</td>\n",
       "    </tr>\n",
       "    <tr>\n",
       "      <th>17</th>\n",
       "      <td>26000.0</td>\n",
       "      <td>9.0</td>\n",
       "      <td>-1.470</td>\n",
       "    </tr>\n",
       "    <tr>\n",
       "      <th>18</th>\n",
       "      <td>29000.0</td>\n",
       "      <td>8.0</td>\n",
       "      <td>-1.458</td>\n",
       "    </tr>\n",
       "    <tr>\n",
       "      <th>19</th>\n",
       "      <td>32000.0</td>\n",
       "      <td>8.0</td>\n",
       "      <td>-1.608</td>\n",
       "    </tr>\n",
       "  </tbody>\n",
       "</table>\n",
       "</div>"
      ],
      "text/plain": [
       "    Freq [Hz]  dt [us]  Theta [deg]\n",
       "0      9000.0    -26.0        1.470\n",
       "1     10300.0    -22.0        1.424\n",
       "2     12000.0    -18.0        1.357\n",
       "3     13000.0    -14.0        1.144\n",
       "4     14000.0    -10.0        0.880\n",
       "5     14500.0     -7.0        0.638\n",
       "6     15000.0     -5.0        0.471\n",
       "7     15500.0     -1.0        0.097\n",
       "8     16000.0      3.0       -0.302\n",
       "9     16500.0      5.0       -0.518\n",
       "10    17000.0      7.0       -0.748\n",
       "11    17500.0      8.0       -0.880\n",
       "12    18000.0      8.0       -0.905\n",
       "13    19000.0      9.0       -1.074\n",
       "14    20000.0      9.0       -1.131\n",
       "15    20900.0     10.0       -1.313\n",
       "16    22000.0     10.0       -1.382\n",
       "17    26000.0      9.0       -1.470\n",
       "18    29000.0      8.0       -1.458\n",
       "19    32000.0      8.0       -1.608"
      ]
     },
     "execution_count": 13,
     "metadata": {},
     "output_type": "execute_result"
    },
    {
     "data": {
      "image/png": "[encoded data removed]",
      "text/plain": [
       "<Figure size 432x288 with 1 Axes>"
      ]
     },
     "metadata": {
      "needs_background": "light"
     },
     "output_type": "display_data"
    }
   ],
   "source": [
    "df = pd.read_csv('dati_prova_2.csv')\n",
    "data_f = df['frequenza'].to_numpy() * 1000 #Hz\n",
    "data_dt = df['dt'].to_numpy() * 10**-6 #s\n",
    "\n",
    "plt.title('Grafico della fase in funzione della frequenza')\n",
    "plt.xlabel('log(frequenza (Hz))')\n",
    "plt.ylabel('$Theta$')\n",
    "plt.scatter(np.log(data_f[:]) ,-data_dt[:]*2*np.pi*data_f)\n",
    "plt.grid()\n",
    "\n",
    "pd.DataFrame({\n",
    "  'Freq [Hz]':data_f,\n",
    "  'dt [us]': data_dt*10**6,\n",
    "  'Theta [deg]': (-data_dt[:]*2*np.pi*data_f).round(3),\n",
    "}\n",
    ")\n"
   ]
  }
 ],
 "metadata": {
  "kernelspec": {
   "display_name": "Python 3.8.5 64-bit",
   "language": "python",
   "name": "python3"
  },
  "language_info": {
   "codemirror_mode": {
    "name": "ipython",
    "version": 3
   },
   "file_extension": ".py",
   "mimetype": "text/x-python",
   "name": "python",
   "nbconvert_exporter": "python",
   "pygments_lexer": "ipython3",
   "version": "3.8.5"
  },
  "orig_nbformat": 4,
  "vscode": {
   "interpreter": {
    "hash": "aee8b7b246df8f9039afb4144a1f6fd8d2ca17a180786b69acc140d282b71a49"
   }
  }
 },
 "nbformat": 4,
 "nbformat_minor": 2
}
